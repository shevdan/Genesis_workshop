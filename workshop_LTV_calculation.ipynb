{
  "cells": [
    {
      "cell_type": "markdown",
      "id": "9424b460",
      "metadata": {
        "id": "9424b460"
      },
      "source": [
        "## Importing the libraries "
      ]
    },
    {
      "cell_type": "code",
      "execution_count": 1,
      "id": "c07fffb5",
      "metadata": {
        "id": "c07fffb5"
      },
      "outputs": [],
      "source": [
        "import pandas as pd\n",
        "import numpy as np"
      ]
    },
    {
      "cell_type": "markdown",
      "id": "9e108dbd",
      "metadata": {
        "id": "9e108dbd"
      },
      "source": [
        "## Load the data"
      ]
    },
    {
      "cell_type": "code",
      "execution_count": 22,
      "id": "a8d1bff4",
      "metadata": {
        "colab": {
          "base_uri": "https://localhost:8080/"
        },
        "id": "a8d1bff4",
        "outputId": "d00647cb-0749-4ff3-b0a2-71f431758420"
      },
      "outputs": [
        {
          "output_type": "execute_result",
          "data": {
            "text/plain": [
              "(28028, 4)"
            ]
          },
          "metadata": {},
          "execution_count": 22
        }
      ],
      "source": [
        "path_to_file = '/content/sample_data/workshop_orders.csv'  # write your path to workshop_orders.csv\n",
        "\n",
        "df = pd.read_csv(path_to_file)# ...\n",
        "df.shape"
      ]
    },
    {
      "cell_type": "markdown",
      "id": "bcb81a4c",
      "metadata": {
        "id": "bcb81a4c"
      },
      "source": [
        "## EDA"
      ]
    },
    {
      "cell_type": "code",
      "execution_count": 3,
      "id": "2ed56362",
      "metadata": {
        "colab": {
          "base_uri": "https://localhost:8080/",
          "height": 206
        },
        "id": "2ed56362",
        "outputId": "120077e8-a8d0-4219-e67a-20f654d253e6"
      },
      "outputs": [
        {
          "output_type": "execute_result",
          "data": {
            "text/plain": [
              "                            customer_id order_status  order_amount  \\\n",
              "0  9d1adcfb-288b-42a2-93c0-3e6ab8df2205     approved          0.99   \n",
              "1  b1bbe434-6d4e-46e5-9e54-6e785e0ad047     declined         29.99   \n",
              "2  30ede893-594e-4fc1-9c5c-e28689af78d8     declined         29.99   \n",
              "3  d66d68e1-e1f5-4a79-961a-2349d5bfc444     approved          0.99   \n",
              "4  d1b56a92-19c6-4759-ab10-4045d4c9e79a     approved         29.99   \n",
              "\n",
              "      order_created_at  \n",
              "0  2022-08-08 02:00:50  \n",
              "1  2022-09-13 12:55:49  \n",
              "2  2022-07-30 16:22:02  \n",
              "3  2022-07-28 18:47:20  \n",
              "4  2022-08-23 12:00:48  "
            ],
            "text/html": [
              "\n",
              "  <div id=\"df-3b22a9c7-27e3-43fe-8818-54c8affbe891\">\n",
              "    <div class=\"colab-df-container\">\n",
              "      <div>\n",
              "<style scoped>\n",
              "    .dataframe tbody tr th:only-of-type {\n",
              "        vertical-align: middle;\n",
              "    }\n",
              "\n",
              "    .dataframe tbody tr th {\n",
              "        vertical-align: top;\n",
              "    }\n",
              "\n",
              "    .dataframe thead th {\n",
              "        text-align: right;\n",
              "    }\n",
              "</style>\n",
              "<table border=\"1\" class=\"dataframe\">\n",
              "  <thead>\n",
              "    <tr style=\"text-align: right;\">\n",
              "      <th></th>\n",
              "      <th>customer_id</th>\n",
              "      <th>order_status</th>\n",
              "      <th>order_amount</th>\n",
              "      <th>order_created_at</th>\n",
              "    </tr>\n",
              "  </thead>\n",
              "  <tbody>\n",
              "    <tr>\n",
              "      <th>0</th>\n",
              "      <td>9d1adcfb-288b-42a2-93c0-3e6ab8df2205</td>\n",
              "      <td>approved</td>\n",
              "      <td>0.99</td>\n",
              "      <td>2022-08-08 02:00:50</td>\n",
              "    </tr>\n",
              "    <tr>\n",
              "      <th>1</th>\n",
              "      <td>b1bbe434-6d4e-46e5-9e54-6e785e0ad047</td>\n",
              "      <td>declined</td>\n",
              "      <td>29.99</td>\n",
              "      <td>2022-09-13 12:55:49</td>\n",
              "    </tr>\n",
              "    <tr>\n",
              "      <th>2</th>\n",
              "      <td>30ede893-594e-4fc1-9c5c-e28689af78d8</td>\n",
              "      <td>declined</td>\n",
              "      <td>29.99</td>\n",
              "      <td>2022-07-30 16:22:02</td>\n",
              "    </tr>\n",
              "    <tr>\n",
              "      <th>3</th>\n",
              "      <td>d66d68e1-e1f5-4a79-961a-2349d5bfc444</td>\n",
              "      <td>approved</td>\n",
              "      <td>0.99</td>\n",
              "      <td>2022-07-28 18:47:20</td>\n",
              "    </tr>\n",
              "    <tr>\n",
              "      <th>4</th>\n",
              "      <td>d1b56a92-19c6-4759-ab10-4045d4c9e79a</td>\n",
              "      <td>approved</td>\n",
              "      <td>29.99</td>\n",
              "      <td>2022-08-23 12:00:48</td>\n",
              "    </tr>\n",
              "  </tbody>\n",
              "</table>\n",
              "</div>\n",
              "      <button class=\"colab-df-convert\" onclick=\"convertToInteractive('df-3b22a9c7-27e3-43fe-8818-54c8affbe891')\"\n",
              "              title=\"Convert this dataframe to an interactive table.\"\n",
              "              style=\"display:none;\">\n",
              "        \n",
              "  <svg xmlns=\"http://www.w3.org/2000/svg\" height=\"24px\"viewBox=\"0 0 24 24\"\n",
              "       width=\"24px\">\n",
              "    <path d=\"M0 0h24v24H0V0z\" fill=\"none\"/>\n",
              "    <path d=\"M18.56 5.44l.94 2.06.94-2.06 2.06-.94-2.06-.94-.94-2.06-.94 2.06-2.06.94zm-11 1L8.5 8.5l.94-2.06 2.06-.94-2.06-.94L8.5 2.5l-.94 2.06-2.06.94zm10 10l.94 2.06.94-2.06 2.06-.94-2.06-.94-.94-2.06-.94 2.06-2.06.94z\"/><path d=\"M17.41 7.96l-1.37-1.37c-.4-.4-.92-.59-1.43-.59-.52 0-1.04.2-1.43.59L10.3 9.45l-7.72 7.72c-.78.78-.78 2.05 0 2.83L4 21.41c.39.39.9.59 1.41.59.51 0 1.02-.2 1.41-.59l7.78-7.78 2.81-2.81c.8-.78.8-2.07 0-2.86zM5.41 20L4 18.59l7.72-7.72 1.47 1.35L5.41 20z\"/>\n",
              "  </svg>\n",
              "      </button>\n",
              "      \n",
              "  <style>\n",
              "    .colab-df-container {\n",
              "      display:flex;\n",
              "      flex-wrap:wrap;\n",
              "      gap: 12px;\n",
              "    }\n",
              "\n",
              "    .colab-df-convert {\n",
              "      background-color: #E8F0FE;\n",
              "      border: none;\n",
              "      border-radius: 50%;\n",
              "      cursor: pointer;\n",
              "      display: none;\n",
              "      fill: #1967D2;\n",
              "      height: 32px;\n",
              "      padding: 0 0 0 0;\n",
              "      width: 32px;\n",
              "    }\n",
              "\n",
              "    .colab-df-convert:hover {\n",
              "      background-color: #E2EBFA;\n",
              "      box-shadow: 0px 1px 2px rgba(60, 64, 67, 0.3), 0px 1px 3px 1px rgba(60, 64, 67, 0.15);\n",
              "      fill: #174EA6;\n",
              "    }\n",
              "\n",
              "    [theme=dark] .colab-df-convert {\n",
              "      background-color: #3B4455;\n",
              "      fill: #D2E3FC;\n",
              "    }\n",
              "\n",
              "    [theme=dark] .colab-df-convert:hover {\n",
              "      background-color: #434B5C;\n",
              "      box-shadow: 0px 1px 3px 1px rgba(0, 0, 0, 0.15);\n",
              "      filter: drop-shadow(0px 1px 2px rgba(0, 0, 0, 0.3));\n",
              "      fill: #FFFFFF;\n",
              "    }\n",
              "  </style>\n",
              "\n",
              "      <script>\n",
              "        const buttonEl =\n",
              "          document.querySelector('#df-3b22a9c7-27e3-43fe-8818-54c8affbe891 button.colab-df-convert');\n",
              "        buttonEl.style.display =\n",
              "          google.colab.kernel.accessAllowed ? 'block' : 'none';\n",
              "\n",
              "        async function convertToInteractive(key) {\n",
              "          const element = document.querySelector('#df-3b22a9c7-27e3-43fe-8818-54c8affbe891');\n",
              "          const dataTable =\n",
              "            await google.colab.kernel.invokeFunction('convertToInteractive',\n",
              "                                                     [key], {});\n",
              "          if (!dataTable) return;\n",
              "\n",
              "          const docLinkHtml = 'Like what you see? Visit the ' +\n",
              "            '<a target=\"_blank\" href=https://colab.research.google.com/notebooks/data_table.ipynb>data table notebook</a>'\n",
              "            + ' to learn more about interactive tables.';\n",
              "          element.innerHTML = '';\n",
              "          dataTable['output_type'] = 'display_data';\n",
              "          await google.colab.output.renderOutput(dataTable, element);\n",
              "          const docLink = document.createElement('div');\n",
              "          docLink.innerHTML = docLinkHtml;\n",
              "          element.appendChild(docLink);\n",
              "        }\n",
              "      </script>\n",
              "    </div>\n",
              "  </div>\n",
              "  "
            ]
          },
          "metadata": {},
          "execution_count": 3
        }
      ],
      "source": [
        "df.head()"
      ]
    },
    {
      "cell_type": "code",
      "execution_count": 6,
      "id": "97fb6551",
      "metadata": {
        "colab": {
          "base_uri": "https://localhost:8080/"
        },
        "id": "97fb6551",
        "outputId": "41692617-a007-43d7-c7d1-b7cf15a70e6c"
      },
      "outputs": [
        {
          "output_type": "stream",
          "name": "stdout",
          "text": [
            "<class 'pandas.core.frame.DataFrame'>\n",
            "Int64Index: 19315 entries, 0 to 28027\n",
            "Data columns (total 4 columns):\n",
            " #   Column            Non-Null Count  Dtype  \n",
            "---  ------            --------------  -----  \n",
            " 0   customer_id       19315 non-null  object \n",
            " 1   order_status      19315 non-null  object \n",
            " 2   order_amount      19315 non-null  float64\n",
            " 3   order_created_at  19315 non-null  object \n",
            "dtypes: float64(1), object(3)\n",
            "memory usage: 754.5+ KB\n"
          ]
        }
      ],
      "source": [
        "df.info()"
      ]
    },
    {
      "cell_type": "code",
      "execution_count": 7,
      "id": "97035669",
      "metadata": {
        "colab": {
          "base_uri": "https://localhost:8080/"
        },
        "id": "97035669",
        "outputId": "02b3a623-0c76-457f-e647-741217545f9b"
      },
      "outputs": [
        {
          "output_type": "execute_result",
          "data": {
            "text/plain": [
              "0.99     10092\n",
              "29.99     9223\n",
              "Name: order_amount, dtype: int64"
            ]
          },
          "metadata": {},
          "execution_count": 7
        }
      ],
      "source": [
        "df[\"order_amount\"].value_counts()"
      ]
    },
    {
      "cell_type": "code",
      "execution_count": 8,
      "id": "2a5075ff",
      "metadata": {
        "colab": {
          "base_uri": "https://localhost:8080/"
        },
        "id": "2a5075ff",
        "outputId": "688f940d-f994-4b49-cbbd-2291c0cd1a70"
      },
      "outputs": [
        {
          "output_type": "execute_result",
          "data": {
            "text/plain": [
              "approved    17713\n",
              "refunded     1602\n",
              "Name: order_status, dtype: int64"
            ]
          },
          "metadata": {},
          "execution_count": 8
        }
      ],
      "source": [
        "df[\"order_status\"].value_counts()"
      ]
    },
    {
      "cell_type": "code",
      "execution_count": 9,
      "id": "30aa4dc4",
      "metadata": {
        "colab": {
          "base_uri": "https://localhost:8080/"
        },
        "id": "30aa4dc4",
        "outputId": "61dab1c1-7dbf-48f8-d637-556da808bbaf"
      },
      "outputs": [
        {
          "output_type": "execute_result",
          "data": {
            "text/plain": [
              "customer_id         0\n",
              "order_status        0\n",
              "order_amount        0\n",
              "order_created_at    0\n",
              "dtype: int64"
            ]
          },
          "metadata": {},
          "execution_count": 9
        }
      ],
      "source": [
        "df.isna().sum()"
      ]
    },
    {
      "cell_type": "code",
      "execution_count": 10,
      "id": "5c5fc47f",
      "metadata": {
        "colab": {
          "base_uri": "https://localhost:8080/"
        },
        "id": "5c5fc47f",
        "outputId": "9b117764-132f-41aa-887d-e4894ab3691d"
      },
      "outputs": [
        {
          "output_type": "execute_result",
          "data": {
            "text/plain": [
              "{False}"
            ]
          },
          "metadata": {},
          "execution_count": 10
        }
      ],
      "source": [
        "set(df.duplicated())"
      ]
    },
    {
      "cell_type": "markdown",
      "id": "0b256d0e",
      "metadata": {
        "id": "0b256d0e"
      },
      "source": [
        "## Data transformation"
      ]
    },
    {
      "cell_type": "markdown",
      "id": "ec9dcf2e",
      "metadata": {
        "id": "ec9dcf2e"
      },
      "source": [
        "Delete declined transactions.\n"
      ]
    },
    {
      "cell_type": "code",
      "execution_count": 23,
      "id": "095f4b33",
      "metadata": {
        "id": "095f4b33"
      },
      "outputs": [],
      "source": [
        "df = df[df.order_status != \"declined\"]"
      ]
    },
    {
      "cell_type": "code",
      "source": [
        "df.head()"
      ],
      "metadata": {
        "colab": {
          "base_uri": "https://localhost:8080/",
          "height": 206
        },
        "id": "DtdMbL3LYJWR",
        "outputId": "b77f5202-7dda-46a2-b9d1-3261c48f30f4"
      },
      "id": "DtdMbL3LYJWR",
      "execution_count": 5,
      "outputs": [
        {
          "output_type": "execute_result",
          "data": {
            "text/plain": [
              "                            customer_id order_status  order_amount  \\\n",
              "0  9d1adcfb-288b-42a2-93c0-3e6ab8df2205     approved          0.99   \n",
              "3  d66d68e1-e1f5-4a79-961a-2349d5bfc444     approved          0.99   \n",
              "4  d1b56a92-19c6-4759-ab10-4045d4c9e79a     approved         29.99   \n",
              "6  3e58c43f-85eb-4c70-9a21-11f8e3d6481d     approved         29.99   \n",
              "8  5443350f-6291-4171-868b-df07cc316055     approved          0.99   \n",
              "\n",
              "      order_created_at  \n",
              "0  2022-08-08 02:00:50  \n",
              "3  2022-07-28 18:47:20  \n",
              "4  2022-08-23 12:00:48  \n",
              "6  2022-07-29 17:05:51  \n",
              "8  2022-08-11 10:54:17  "
            ],
            "text/html": [
              "\n",
              "  <div id=\"df-5aa60d39-2f4c-4370-a020-92e07bb58422\">\n",
              "    <div class=\"colab-df-container\">\n",
              "      <div>\n",
              "<style scoped>\n",
              "    .dataframe tbody tr th:only-of-type {\n",
              "        vertical-align: middle;\n",
              "    }\n",
              "\n",
              "    .dataframe tbody tr th {\n",
              "        vertical-align: top;\n",
              "    }\n",
              "\n",
              "    .dataframe thead th {\n",
              "        text-align: right;\n",
              "    }\n",
              "</style>\n",
              "<table border=\"1\" class=\"dataframe\">\n",
              "  <thead>\n",
              "    <tr style=\"text-align: right;\">\n",
              "      <th></th>\n",
              "      <th>customer_id</th>\n",
              "      <th>order_status</th>\n",
              "      <th>order_amount</th>\n",
              "      <th>order_created_at</th>\n",
              "    </tr>\n",
              "  </thead>\n",
              "  <tbody>\n",
              "    <tr>\n",
              "      <th>0</th>\n",
              "      <td>9d1adcfb-288b-42a2-93c0-3e6ab8df2205</td>\n",
              "      <td>approved</td>\n",
              "      <td>0.99</td>\n",
              "      <td>2022-08-08 02:00:50</td>\n",
              "    </tr>\n",
              "    <tr>\n",
              "      <th>3</th>\n",
              "      <td>d66d68e1-e1f5-4a79-961a-2349d5bfc444</td>\n",
              "      <td>approved</td>\n",
              "      <td>0.99</td>\n",
              "      <td>2022-07-28 18:47:20</td>\n",
              "    </tr>\n",
              "    <tr>\n",
              "      <th>4</th>\n",
              "      <td>d1b56a92-19c6-4759-ab10-4045d4c9e79a</td>\n",
              "      <td>approved</td>\n",
              "      <td>29.99</td>\n",
              "      <td>2022-08-23 12:00:48</td>\n",
              "    </tr>\n",
              "    <tr>\n",
              "      <th>6</th>\n",
              "      <td>3e58c43f-85eb-4c70-9a21-11f8e3d6481d</td>\n",
              "      <td>approved</td>\n",
              "      <td>29.99</td>\n",
              "      <td>2022-07-29 17:05:51</td>\n",
              "    </tr>\n",
              "    <tr>\n",
              "      <th>8</th>\n",
              "      <td>5443350f-6291-4171-868b-df07cc316055</td>\n",
              "      <td>approved</td>\n",
              "      <td>0.99</td>\n",
              "      <td>2022-08-11 10:54:17</td>\n",
              "    </tr>\n",
              "  </tbody>\n",
              "</table>\n",
              "</div>\n",
              "      <button class=\"colab-df-convert\" onclick=\"convertToInteractive('df-5aa60d39-2f4c-4370-a020-92e07bb58422')\"\n",
              "              title=\"Convert this dataframe to an interactive table.\"\n",
              "              style=\"display:none;\">\n",
              "        \n",
              "  <svg xmlns=\"http://www.w3.org/2000/svg\" height=\"24px\"viewBox=\"0 0 24 24\"\n",
              "       width=\"24px\">\n",
              "    <path d=\"M0 0h24v24H0V0z\" fill=\"none\"/>\n",
              "    <path d=\"M18.56 5.44l.94 2.06.94-2.06 2.06-.94-2.06-.94-.94-2.06-.94 2.06-2.06.94zm-11 1L8.5 8.5l.94-2.06 2.06-.94-2.06-.94L8.5 2.5l-.94 2.06-2.06.94zm10 10l.94 2.06.94-2.06 2.06-.94-2.06-.94-.94-2.06-.94 2.06-2.06.94z\"/><path d=\"M17.41 7.96l-1.37-1.37c-.4-.4-.92-.59-1.43-.59-.52 0-1.04.2-1.43.59L10.3 9.45l-7.72 7.72c-.78.78-.78 2.05 0 2.83L4 21.41c.39.39.9.59 1.41.59.51 0 1.02-.2 1.41-.59l7.78-7.78 2.81-2.81c.8-.78.8-2.07 0-2.86zM5.41 20L4 18.59l7.72-7.72 1.47 1.35L5.41 20z\"/>\n",
              "  </svg>\n",
              "      </button>\n",
              "      \n",
              "  <style>\n",
              "    .colab-df-container {\n",
              "      display:flex;\n",
              "      flex-wrap:wrap;\n",
              "      gap: 12px;\n",
              "    }\n",
              "\n",
              "    .colab-df-convert {\n",
              "      background-color: #E8F0FE;\n",
              "      border: none;\n",
              "      border-radius: 50%;\n",
              "      cursor: pointer;\n",
              "      display: none;\n",
              "      fill: #1967D2;\n",
              "      height: 32px;\n",
              "      padding: 0 0 0 0;\n",
              "      width: 32px;\n",
              "    }\n",
              "\n",
              "    .colab-df-convert:hover {\n",
              "      background-color: #E2EBFA;\n",
              "      box-shadow: 0px 1px 2px rgba(60, 64, 67, 0.3), 0px 1px 3px 1px rgba(60, 64, 67, 0.15);\n",
              "      fill: #174EA6;\n",
              "    }\n",
              "\n",
              "    [theme=dark] .colab-df-convert {\n",
              "      background-color: #3B4455;\n",
              "      fill: #D2E3FC;\n",
              "    }\n",
              "\n",
              "    [theme=dark] .colab-df-convert:hover {\n",
              "      background-color: #434B5C;\n",
              "      box-shadow: 0px 1px 3px 1px rgba(0, 0, 0, 0.15);\n",
              "      filter: drop-shadow(0px 1px 2px rgba(0, 0, 0, 0.3));\n",
              "      fill: #FFFFFF;\n",
              "    }\n",
              "  </style>\n",
              "\n",
              "      <script>\n",
              "        const buttonEl =\n",
              "          document.querySelector('#df-5aa60d39-2f4c-4370-a020-92e07bb58422 button.colab-df-convert');\n",
              "        buttonEl.style.display =\n",
              "          google.colab.kernel.accessAllowed ? 'block' : 'none';\n",
              "\n",
              "        async function convertToInteractive(key) {\n",
              "          const element = document.querySelector('#df-5aa60d39-2f4c-4370-a020-92e07bb58422');\n",
              "          const dataTable =\n",
              "            await google.colab.kernel.invokeFunction('convertToInteractive',\n",
              "                                                     [key], {});\n",
              "          if (!dataTable) return;\n",
              "\n",
              "          const docLinkHtml = 'Like what you see? Visit the ' +\n",
              "            '<a target=\"_blank\" href=https://colab.research.google.com/notebooks/data_table.ipynb>data table notebook</a>'\n",
              "            + ' to learn more about interactive tables.';\n",
              "          element.innerHTML = '';\n",
              "          dataTable['output_type'] = 'display_data';\n",
              "          await google.colab.output.renderOutput(dataTable, element);\n",
              "          const docLink = document.createElement('div');\n",
              "          docLink.innerHTML = docLinkHtml;\n",
              "          element.appendChild(docLink);\n",
              "        }\n",
              "      </script>\n",
              "    </div>\n",
              "  </div>\n",
              "  "
            ]
          },
          "metadata": {},
          "execution_count": 5
        }
      ]
    },
    {
      "cell_type": "markdown",
      "id": "8dcf4908",
      "metadata": {
        "id": "8dcf4908"
      },
      "source": [
        "For convenience, we will transform our data into single-user level (not single order)."
      ]
    },
    {
      "cell_type": "code",
      "execution_count": 26,
      "id": "6577968e",
      "metadata": {
        "id": "6577968e"
      },
      "outputs": [],
      "source": [
        "df = df.sort_values(by=[\"customer_id\"])"
      ]
    },
    {
      "cell_type": "code",
      "source": [
        "df.loc[df['order_status'] == \"refunded\", 'order_amount'] = -1 * df.loc[df['order_status'] == \"refunded\", 'order_amount']"
      ],
      "metadata": {
        "id": "s8Bq6274bDuX"
      },
      "id": "s8Bq6274bDuX",
      "execution_count": 34,
      "outputs": []
    },
    {
      "cell_type": "code",
      "execution_count": 39,
      "id": "818ea066",
      "metadata": {
        "colab": {
          "base_uri": "https://localhost:8080/",
          "height": 363
        },
        "id": "818ea066",
        "outputId": "5eddf014-ebf9-49be-faa7-efe18c7c66a5"
      },
      "outputs": [
        {
          "output_type": "execute_result",
          "data": {
            "text/plain": [
              "                                customer_id order_status  order_amount  \\\n",
              "14676  000230b4-1c56-4959-92be-cdcca793c04e     approved          0.99   \n",
              "13364  000230b4-1c56-4959-92be-cdcca793c04e     approved         29.99   \n",
              "11299  000230b4-1c56-4959-92be-cdcca793c04e     approved         29.99   \n",
              "21909  0006303d-0c89-43da-b18a-12d7b930260a     approved          0.99   \n",
              "417    0006303d-0c89-43da-b18a-12d7b930260a     refunded        -29.99   \n",
              "17102  0011e335-d60e-40dd-98a6-c67daeb955a8     approved          0.99   \n",
              "17380  0011e335-d60e-40dd-98a6-c67daeb955a8     approved         29.99   \n",
              "12089  001669a4-1baf-4b34-82c1-6e3340ec86e1     approved          0.99   \n",
              "7502   0022d1a2-f448-4610-b01f-e817e116e741     approved          0.99   \n",
              "14545  0022d1a2-f448-4610-b01f-e817e116e741     approved         29.99   \n",
              "\n",
              "          order_created_at  \n",
              "14676  2022-08-18 13:39:37  \n",
              "13364  2022-09-20 13:40:48  \n",
              "11299  2022-08-21 13:39:55  \n",
              "21909  2022-07-17 18:57:29  \n",
              "417    2022-07-20 18:57:47  \n",
              "17102  2022-08-23 19:41:26  \n",
              "17380  2022-08-26 19:41:49  \n",
              "12089  2022-07-14 09:30:47  \n",
              "7502   2022-07-23 12:12:06  \n",
              "14545  2022-07-26 12:12:47  "
            ],
            "text/html": [
              "\n",
              "  <div id=\"df-4c43fa68-0242-4fad-a350-8f3380e2b18f\">\n",
              "    <div class=\"colab-df-container\">\n",
              "      <div>\n",
              "<style scoped>\n",
              "    .dataframe tbody tr th:only-of-type {\n",
              "        vertical-align: middle;\n",
              "    }\n",
              "\n",
              "    .dataframe tbody tr th {\n",
              "        vertical-align: top;\n",
              "    }\n",
              "\n",
              "    .dataframe thead th {\n",
              "        text-align: right;\n",
              "    }\n",
              "</style>\n",
              "<table border=\"1\" class=\"dataframe\">\n",
              "  <thead>\n",
              "    <tr style=\"text-align: right;\">\n",
              "      <th></th>\n",
              "      <th>customer_id</th>\n",
              "      <th>order_status</th>\n",
              "      <th>order_amount</th>\n",
              "      <th>order_created_at</th>\n",
              "    </tr>\n",
              "  </thead>\n",
              "  <tbody>\n",
              "    <tr>\n",
              "      <th>14676</th>\n",
              "      <td>000230b4-1c56-4959-92be-cdcca793c04e</td>\n",
              "      <td>approved</td>\n",
              "      <td>0.99</td>\n",
              "      <td>2022-08-18 13:39:37</td>\n",
              "    </tr>\n",
              "    <tr>\n",
              "      <th>13364</th>\n",
              "      <td>000230b4-1c56-4959-92be-cdcca793c04e</td>\n",
              "      <td>approved</td>\n",
              "      <td>29.99</td>\n",
              "      <td>2022-09-20 13:40:48</td>\n",
              "    </tr>\n",
              "    <tr>\n",
              "      <th>11299</th>\n",
              "      <td>000230b4-1c56-4959-92be-cdcca793c04e</td>\n",
              "      <td>approved</td>\n",
              "      <td>29.99</td>\n",
              "      <td>2022-08-21 13:39:55</td>\n",
              "    </tr>\n",
              "    <tr>\n",
              "      <th>21909</th>\n",
              "      <td>0006303d-0c89-43da-b18a-12d7b930260a</td>\n",
              "      <td>approved</td>\n",
              "      <td>0.99</td>\n",
              "      <td>2022-07-17 18:57:29</td>\n",
              "    </tr>\n",
              "    <tr>\n",
              "      <th>417</th>\n",
              "      <td>0006303d-0c89-43da-b18a-12d7b930260a</td>\n",
              "      <td>refunded</td>\n",
              "      <td>-29.99</td>\n",
              "      <td>2022-07-20 18:57:47</td>\n",
              "    </tr>\n",
              "    <tr>\n",
              "      <th>17102</th>\n",
              "      <td>0011e335-d60e-40dd-98a6-c67daeb955a8</td>\n",
              "      <td>approved</td>\n",
              "      <td>0.99</td>\n",
              "      <td>2022-08-23 19:41:26</td>\n",
              "    </tr>\n",
              "    <tr>\n",
              "      <th>17380</th>\n",
              "      <td>0011e335-d60e-40dd-98a6-c67daeb955a8</td>\n",
              "      <td>approved</td>\n",
              "      <td>29.99</td>\n",
              "      <td>2022-08-26 19:41:49</td>\n",
              "    </tr>\n",
              "    <tr>\n",
              "      <th>12089</th>\n",
              "      <td>001669a4-1baf-4b34-82c1-6e3340ec86e1</td>\n",
              "      <td>approved</td>\n",
              "      <td>0.99</td>\n",
              "      <td>2022-07-14 09:30:47</td>\n",
              "    </tr>\n",
              "    <tr>\n",
              "      <th>7502</th>\n",
              "      <td>0022d1a2-f448-4610-b01f-e817e116e741</td>\n",
              "      <td>approved</td>\n",
              "      <td>0.99</td>\n",
              "      <td>2022-07-23 12:12:06</td>\n",
              "    </tr>\n",
              "    <tr>\n",
              "      <th>14545</th>\n",
              "      <td>0022d1a2-f448-4610-b01f-e817e116e741</td>\n",
              "      <td>approved</td>\n",
              "      <td>29.99</td>\n",
              "      <td>2022-07-26 12:12:47</td>\n",
              "    </tr>\n",
              "  </tbody>\n",
              "</table>\n",
              "</div>\n",
              "      <button class=\"colab-df-convert\" onclick=\"convertToInteractive('df-4c43fa68-0242-4fad-a350-8f3380e2b18f')\"\n",
              "              title=\"Convert this dataframe to an interactive table.\"\n",
              "              style=\"display:none;\">\n",
              "        \n",
              "  <svg xmlns=\"http://www.w3.org/2000/svg\" height=\"24px\"viewBox=\"0 0 24 24\"\n",
              "       width=\"24px\">\n",
              "    <path d=\"M0 0h24v24H0V0z\" fill=\"none\"/>\n",
              "    <path d=\"M18.56 5.44l.94 2.06.94-2.06 2.06-.94-2.06-.94-.94-2.06-.94 2.06-2.06.94zm-11 1L8.5 8.5l.94-2.06 2.06-.94-2.06-.94L8.5 2.5l-.94 2.06-2.06.94zm10 10l.94 2.06.94-2.06 2.06-.94-2.06-.94-.94-2.06-.94 2.06-2.06.94z\"/><path d=\"M17.41 7.96l-1.37-1.37c-.4-.4-.92-.59-1.43-.59-.52 0-1.04.2-1.43.59L10.3 9.45l-7.72 7.72c-.78.78-.78 2.05 0 2.83L4 21.41c.39.39.9.59 1.41.59.51 0 1.02-.2 1.41-.59l7.78-7.78 2.81-2.81c.8-.78.8-2.07 0-2.86zM5.41 20L4 18.59l7.72-7.72 1.47 1.35L5.41 20z\"/>\n",
              "  </svg>\n",
              "      </button>\n",
              "      \n",
              "  <style>\n",
              "    .colab-df-container {\n",
              "      display:flex;\n",
              "      flex-wrap:wrap;\n",
              "      gap: 12px;\n",
              "    }\n",
              "\n",
              "    .colab-df-convert {\n",
              "      background-color: #E8F0FE;\n",
              "      border: none;\n",
              "      border-radius: 50%;\n",
              "      cursor: pointer;\n",
              "      display: none;\n",
              "      fill: #1967D2;\n",
              "      height: 32px;\n",
              "      padding: 0 0 0 0;\n",
              "      width: 32px;\n",
              "    }\n",
              "\n",
              "    .colab-df-convert:hover {\n",
              "      background-color: #E2EBFA;\n",
              "      box-shadow: 0px 1px 2px rgba(60, 64, 67, 0.3), 0px 1px 3px 1px rgba(60, 64, 67, 0.15);\n",
              "      fill: #174EA6;\n",
              "    }\n",
              "\n",
              "    [theme=dark] .colab-df-convert {\n",
              "      background-color: #3B4455;\n",
              "      fill: #D2E3FC;\n",
              "    }\n",
              "\n",
              "    [theme=dark] .colab-df-convert:hover {\n",
              "      background-color: #434B5C;\n",
              "      box-shadow: 0px 1px 3px 1px rgba(0, 0, 0, 0.15);\n",
              "      filter: drop-shadow(0px 1px 2px rgba(0, 0, 0, 0.3));\n",
              "      fill: #FFFFFF;\n",
              "    }\n",
              "  </style>\n",
              "\n",
              "      <script>\n",
              "        const buttonEl =\n",
              "          document.querySelector('#df-4c43fa68-0242-4fad-a350-8f3380e2b18f button.colab-df-convert');\n",
              "        buttonEl.style.display =\n",
              "          google.colab.kernel.accessAllowed ? 'block' : 'none';\n",
              "\n",
              "        async function convertToInteractive(key) {\n",
              "          const element = document.querySelector('#df-4c43fa68-0242-4fad-a350-8f3380e2b18f');\n",
              "          const dataTable =\n",
              "            await google.colab.kernel.invokeFunction('convertToInteractive',\n",
              "                                                     [key], {});\n",
              "          if (!dataTable) return;\n",
              "\n",
              "          const docLinkHtml = 'Like what you see? Visit the ' +\n",
              "            '<a target=\"_blank\" href=https://colab.research.google.com/notebooks/data_table.ipynb>data table notebook</a>'\n",
              "            + ' to learn more about interactive tables.';\n",
              "          element.innerHTML = '';\n",
              "          dataTable['output_type'] = 'display_data';\n",
              "          await google.colab.output.renderOutput(dataTable, element);\n",
              "          const docLink = document.createElement('div');\n",
              "          docLink.innerHTML = docLinkHtml;\n",
              "          element.appendChild(docLink);\n",
              "        }\n",
              "      </script>\n",
              "    </div>\n",
              "  </div>\n",
              "  "
            ]
          },
          "metadata": {},
          "execution_count": 39
        }
      ],
      "source": [
        "df.head(10)"
      ]
    },
    {
      "cell_type": "code",
      "execution_count": 52,
      "id": "501a727f",
      "metadata": {
        "id": "501a727f"
      },
      "outputs": [],
      "source": [
        "df2 = df.groupby('customer_id')[\"order_amount\"].apply(list)"
      ]
    },
    {
      "cell_type": "code",
      "source": [
        "customer_dict = df2.to_dict()"
      ],
      "metadata": {
        "id": "TBGeHu0nab57"
      },
      "id": "TBGeHu0nab57",
      "execution_count": 56,
      "outputs": []
    },
    {
      "cell_type": "markdown",
      "id": "616540d8",
      "metadata": {
        "id": "616540d8"
      },
      "source": [
        "## Calculating metrics"
      ]
    },
    {
      "cell_type": "code",
      "execution_count": 59,
      "id": "1a08f738",
      "metadata": {
        "id": "1a08f738"
      },
      "outputs": [],
      "source": [
        "res_metrics = {\n",
        "    \"CR_from_trial\": 0,\n",
        "    \"Refund_rate\": 0,\n",
        "    \"Rebill_rate\": 0,\n",
        "    \"Commisions\": 0\n",
        "}"
      ]
    },
    {
      "cell_type": "markdown",
      "id": "381ed593",
      "metadata": {
        "id": "381ed593"
      },
      "source": [
        "CR from trial = number of converted to full charge users / total amount of users"
      ]
    },
    {
      "cell_type": "code",
      "execution_count": 96,
      "id": "e0440087",
      "metadata": {
        "colab": {
          "base_uri": "https://localhost:8080/"
        },
        "id": "e0440087",
        "outputId": "df4c30a2-d84f-4b7f-e4a5-eed406978c8e"
      },
      "outputs": [
        {
          "output_type": "stream",
          "name": "stdout",
          "text": [
            "10092 6109\n"
          ]
        },
        {
          "output_type": "execute_result",
          "data": {
            "text/plain": [
              "0.6053309552120492"
            ]
          },
          "metadata": {},
          "execution_count": 96
        }
      ],
      "source": [
        "num = 0\n",
        "for cust in customer_dict:\n",
        "  if len(customer_dict[cust]) > 1:\n",
        "    num += 1\n",
        "\n",
        "print(len(customer_dict), num)\n",
        "res_metrics['CR_from_trial'] = num / len(customer_dict)# ...\n",
        "res_metrics['CR_from_trial']"
      ]
    },
    {
      "cell_type": "markdown",
      "id": "96ef0545",
      "metadata": {
        "id": "96ef0545"
      },
      "source": [
        "Refund rate = amount of refunded / total earned"
      ]
    },
    {
      "cell_type": "code",
      "execution_count": 82,
      "id": "8833aad4",
      "metadata": {
        "colab": {
          "base_uri": "https://localhost:8080/"
        },
        "id": "8833aad4",
        "outputId": "dd634058-560b-4bd7-81ec-6bfd87400a71"
      },
      "outputs": [
        {
          "output_type": "execute_result",
          "data": {
            "text/plain": [
              "0.12453373534944157"
            ]
          },
          "metadata": {},
          "execution_count": 82
        }
      ],
      "source": [
        "sum_refunded, sum_got = 0, 0\n",
        "for cust in customer_dict:\n",
        "  sum_got += sum([elm for elm in customer_dict[cust] if elm > 0])\n",
        "  sum_refunded += sum([abs(elm) for elm in customer_dict[cust] if elm < 0])\n",
        "\n",
        "\n",
        "res_metrics['Refund_rate'] = sum_refunded / (sum_refunded + sum_got)# ...\n",
        "res_metrics['Refund_rate']"
      ]
    },
    {
      "cell_type": "markdown",
      "id": "d463e47c",
      "metadata": {
        "id": "d463e47c"
      },
      "source": [
        "Rebill rate:\n",
        "Rebill rate measures the number of times the average user will pay us for his recurring subscription. To calculate this metric over a 6-month horizon let’s assume that it will decrease each month in 0.7 times starting from the 2nd recurrent payment."
      ]
    },
    {
      "cell_type": "code",
      "execution_count": 95,
      "id": "1b24d9ee",
      "metadata": {
        "colab": {
          "base_uri": "https://localhost:8080/"
        },
        "id": "1b24d9ee",
        "outputId": "91257f04-8c27-4682-ab44-6209ef26bf56"
      },
      "outputs": [
        {
          "output_type": "stream",
          "name": "stdout",
          "text": [
            "5098 2472\n",
            "[1730, 1211, 848, 594, 416]\n",
            "5098 2472\n",
            "0.48489603766182815\n"
          ]
        },
        {
          "output_type": "execute_result",
          "data": {
            "text/plain": [
              "2.4262455865045114"
            ]
          },
          "metadata": {},
          "execution_count": 95
        }
      ],
      "source": [
        "num_first_month, num_second_month = 0, 0\n",
        "for cust in customer_dict:\n",
        "  if len(customer_dict[cust]) > 1 and customer_dict[cust].count(29.99) >= 1:\n",
        "      num_first_month += 1\n",
        "    # if len(customer_dict[cust]) > 2:\n",
        "    #   if customer_dict[cust][2] == 29.99:\n",
        "    #     num_second_month += 1\n",
        "  #   num_second_month += 1\n",
        "  # if 29.99 in customer_dict[cust]:\n",
        "  #   num_first_month += 1\n",
        "  if len(customer_dict[cust]) > 2 and customer_dict[cust].count(29.99) >= 2:\n",
        "    num_second_month += 1\n",
        "\n",
        "print(num_first_month, num_second_month)\n",
        "\n",
        "\n",
        "monthly_payers = [round(num_second_month * 0.7)]\n",
        "\n",
        "for _ in range(4):\n",
        "  monthly_payers.append(round(monthly_payers[-1] * 0.7))\n",
        "\n",
        "print(monthly_payers)\n",
        "\n",
        "print(num_first_month, num_second_month)\n",
        "\n",
        "print(num_second_month / num_first_month)\n",
        "\n",
        "res_metrics['Rebill_rate'] = (sum(monthly_payers) + num_second_month + num_first_month) / num_first_month# ...\n",
        "res_metrics['Rebill_rate']"
      ]
    },
    {
      "cell_type": "markdown",
      "id": "9c0e187d",
      "metadata": {
        "id": "9c0e187d"
      },
      "source": [
        "And add the commission (10%)"
      ]
    },
    {
      "cell_type": "code",
      "execution_count": 97,
      "id": "bf6d7dbc",
      "metadata": {
        "id": "bf6d7dbc"
      },
      "outputs": [],
      "source": [
        "res_metrics['Commisions'] = 0.1"
      ]
    },
    {
      "cell_type": "code",
      "execution_count": 98,
      "id": "b26b0514",
      "metadata": {
        "colab": {
          "base_uri": "https://localhost:8080/"
        },
        "id": "b26b0514",
        "outputId": "8b15edc7-3154-4f65-9d1a-1e0eabf560b7"
      },
      "outputs": [
        {
          "output_type": "execute_result",
          "data": {
            "text/plain": [
              "{'CR_from_trial': 0.6053309552120492,\n",
              " 'Refund_rate': 0.12453373534944157,\n",
              " 'Rebill_rate': 2.4262455865045114,\n",
              " 'Commisions': 0.1}"
            ]
          },
          "metadata": {},
          "execution_count": 98
        }
      ],
      "source": [
        "res_metrics"
      ]
    },
    {
      "cell_type": "markdown",
      "id": "dea9b875",
      "metadata": {
        "id": "dea9b875"
      },
      "source": [
        "## Calculating LTV\n",
        "(0.99 + 29.99 * AA % * (1- BB %) * С.СС) * (1 - ZZ %) with AA % being the conversion rate, BB % - the refund rate, C.CC - the rebill rate and ZZ % - the commissions."
      ]
    },
    {
      "cell_type": "code",
      "execution_count": 99,
      "id": "60b4128f",
      "metadata": {
        "id": "60b4128f"
      },
      "outputs": [],
      "source": [
        "LTV = (0.99 + 29.99 * res_metrics[\"CR_from_trial\"] * (1 - res_metrics[\"Refund_rate\"]) * res_metrics[\"Rebill_rate\"]) * (1 - res_metrics['Commisions'])# ..."
      ]
    },
    {
      "cell_type": "code",
      "source": [
        "LTV"
      ],
      "metadata": {
        "colab": {
          "base_uri": "https://localhost:8080/"
        },
        "id": "lyrkc_JBjw6W",
        "outputId": "ef2d1de7-927a-4ed5-975e-4bd6d6d3580d"
      },
      "id": "lyrkc_JBjw6W",
      "execution_count": 100,
      "outputs": [
        {
          "output_type": "execute_result",
          "data": {
            "text/plain": [
              "35.595519234072064"
            ]
          },
          "metadata": {},
          "execution_count": 100
        }
      ]
    }
  ],
  "metadata": {
    "kernelspec": {
      "display_name": "Python 3 (ipykernel)",
      "language": "python",
      "name": "python3"
    },
    "language_info": {
      "codemirror_mode": {
        "name": "ipython",
        "version": 3
      },
      "file_extension": ".py",
      "mimetype": "text/x-python",
      "name": "python",
      "nbconvert_exporter": "python",
      "pygments_lexer": "ipython3",
      "version": "3.9.5"
    },
    "colab": {
      "provenance": [],
      "collapsed_sections": []
    }
  },
  "nbformat": 4,
  "nbformat_minor": 5
}